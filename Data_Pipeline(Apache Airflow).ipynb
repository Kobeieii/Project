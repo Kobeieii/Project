{
  "nbformat": 4,
  "nbformat_minor": 0,
  "metadata": {
    "colab": {
      "name": "Data_Pipeline.ipynb",
      "provenance": [],
      "authorship_tag": "ABX9TyNdDMzvKbF3kL8BrxwqrQAf",
      "include_colab_link": true
    },
    "kernelspec": {
      "name": "python3",
      "display_name": "Python 3"
    },
    "language_info": {
      "name": "python"
    }
  },
  "cells": [
    {
      "cell_type": "markdown",
      "metadata": {
        "id": "view-in-github",
        "colab_type": "text"
      },
      "source": [
        "<a href=\"https://colab.research.google.com/github/Kobeieii/Project/blob/main/Data_Pipeline(Apache%20Airflow).ipynb\" target=\"_parent\"><img src=\"https://colab.research.google.com/assets/colab-badge.svg\" alt=\"Open In Colab\"/></a>"
      ]
    },
    {
      "cell_type": "code",
      "metadata": {
        "colab": {
          "base_uri": "https://localhost:8080/"
        },
        "id": "b0ax4IDp6XUd",
        "outputId": "f09db625-b588-4ec1-e9dc-5b558bb11ca8"
      },
      "source": [
        "!pip install apache-airflow\n",
        "!pip install pymysql"
      ],
      "execution_count": null,
      "outputs": [
        {
          "output_type": "stream",
          "name": "stdout",
          "text": [
            "Requirement already satisfied: apache-airflow in /usr/local/lib/python3.7/dist-packages (2.1.3)\n",
            "Requirement already satisfied: httpx in /usr/local/lib/python3.7/dist-packages (from apache-airflow) (0.19.0)\n",
            "Requirement already satisfied: croniter<1.1,>=0.3.17 in /usr/local/lib/python3.7/dist-packages (from apache-airflow) (1.0.15)\n",
            "Requirement already satisfied: importlib-resources~=1.4 in /usr/local/lib/python3.7/dist-packages (from apache-airflow) (1.5.0)\n",
            "Requirement already satisfied: python-slugify<5.0,>=3.0.0 in /usr/local/lib/python3.7/dist-packages (from apache-airflow) (4.0.1)\n",
            "Requirement already satisfied: flask-login<0.5,>=0.3 in /usr/local/lib/python3.7/dist-packages (from apache-airflow) (0.4.1)\n",
            "Requirement already satisfied: python-daemon>=2.2.4 in /usr/local/lib/python3.7/dist-packages (from apache-airflow) (2.3.0)\n",
            "Requirement already satisfied: importlib-metadata>=1.7 in /usr/local/lib/python3.7/dist-packages (from apache-airflow) (4.6.4)\n",
            "Requirement already satisfied: graphviz>=0.12 in /usr/local/lib/python3.7/dist-packages (from apache-airflow) (0.17)\n",
            "Requirement already satisfied: unicodecsv>=0.14.1 in /usr/local/lib/python3.7/dist-packages (from apache-airflow) (0.14.1)\n",
            "Requirement already satisfied: psutil<6.0.0,>=4.2.0 in /usr/local/lib/python3.7/dist-packages (from apache-airflow) (5.4.8)\n",
            "Requirement already satisfied: pendulum~=2.0 in /usr/local/lib/python3.7/dist-packages (from apache-airflow) (2.1.2)\n",
            "Requirement already satisfied: tabulate<0.9,>=0.7.5 in /usr/local/lib/python3.7/dist-packages (from apache-airflow) (0.8.9)\n",
            "Requirement already satisfied: flask-wtf<0.15,>=0.14.3 in /usr/local/lib/python3.7/dist-packages (from apache-airflow) (0.14.3)\n",
            "Requirement already satisfied: jsonschema~=3.0 in /usr/local/lib/python3.7/dist-packages (from apache-airflow) (3.2.0)\n",
            "Requirement already satisfied: pandas<2.0,>=0.17.1 in /usr/local/lib/python3.7/dist-packages (from apache-airflow) (1.1.5)\n",
            "Requirement already satisfied: marshmallow-oneofschema>=2.0.1 in /usr/local/lib/python3.7/dist-packages (from apache-airflow) (3.0.1)\n",
            "Requirement already satisfied: flask-caching<2.0.0,>=1.5.0 in /usr/local/lib/python3.7/dist-packages (from apache-airflow) (1.10.1)\n",
            "Requirement already satisfied: iso8601>=0.1.12 in /usr/local/lib/python3.7/dist-packages (from apache-airflow) (0.1.16)\n",
            "Requirement already satisfied: markdown<4.0,>=2.5.2 in /usr/local/lib/python3.7/dist-packages (from apache-airflow) (3.3.4)\n",
            "Requirement already satisfied: jinja2<4,>=2.10.1 in /usr/local/lib/python3.7/dist-packages (from apache-airflow) (2.11.3)\n",
            "Requirement already satisfied: lazy-object-proxy in /usr/local/lib/python3.7/dist-packages (from apache-airflow) (1.6.0)\n",
            "Requirement already satisfied: attrs<21.0,>=20.0 in /usr/local/lib/python3.7/dist-packages (from apache-airflow) (20.3.0)\n",
            "Requirement already satisfied: typing-extensions>=3.7.4 in /usr/local/lib/python3.7/dist-packages (from apache-airflow) (3.7.4.3)\n",
            "Requirement already satisfied: dill<0.4,>=0.2.2 in /usr/local/lib/python3.7/dist-packages (from apache-airflow) (0.3.4)\n",
            "Requirement already satisfied: cryptography>=0.9.3 in /usr/local/lib/python3.7/dist-packages (from apache-airflow) (3.4.8)\n",
            "Requirement already satisfied: python-dateutil<3,>=2.3 in /usr/local/lib/python3.7/dist-packages (from apache-airflow) (2.8.2)\n",
            "Requirement already satisfied: cached-property~=1.5 in /usr/local/lib/python3.7/dist-packages (from apache-airflow) (1.5.2)\n",
            "Requirement already satisfied: python-nvd3~=0.15.0 in /usr/local/lib/python3.7/dist-packages (from apache-airflow) (0.15.0)\n",
            "Requirement already satisfied: sqlalchemy>=1.3.18 in /usr/local/lib/python3.7/dist-packages (from apache-airflow) (1.3.24)\n",
            "Requirement already satisfied: pyjwt<2 in /usr/local/lib/python3.7/dist-packages (from apache-airflow) (1.7.1)\n",
            "Requirement already satisfied: sqlalchemy-jsonfield~=1.0 in /usr/local/lib/python3.7/dist-packages (from apache-airflow) (1.0.0)\n",
            "Requirement already satisfied: itsdangerous<2.0,>=1.1.0 in /usr/local/lib/python3.7/dist-packages (from apache-airflow) (1.1.0)\n",
            "Requirement already satisfied: termcolor>=1.1.0 in /usr/local/lib/python3.7/dist-packages (from apache-airflow) (1.1.0)\n",
            "Requirement already satisfied: flask-appbuilder<4.0.0,>=3.3.2 in /usr/local/lib/python3.7/dist-packages (from apache-airflow) (3.3.3)\n",
            "Requirement already satisfied: argcomplete~=1.10 in /usr/local/lib/python3.7/dist-packages (from apache-airflow) (1.12.3)\n",
            "Requirement already satisfied: setproctitle<2,>=1.1.8 in /usr/local/lib/python3.7/dist-packages (from apache-airflow) (1.2.2)\n",
            "Requirement already satisfied: apache-airflow-providers-sqlite in /usr/local/lib/python3.7/dist-packages (from apache-airflow) (2.0.1)\n",
            "Requirement already satisfied: gunicorn>=19.5.0 in /usr/local/lib/python3.7/dist-packages (from apache-airflow) (20.1.0)\n",
            "Requirement already satisfied: openapi-spec-validator>=0.2.4 in /usr/local/lib/python3.7/dist-packages (from apache-airflow) (0.3.1)\n",
            "Requirement already satisfied: cattrs<1.7.0,~=1.1 in /usr/local/lib/python3.7/dist-packages (from apache-airflow) (1.5.0)\n",
            "Requirement already satisfied: pyyaml>=5.1 in /usr/local/lib/python3.7/dist-packages (from apache-airflow) (5.4.1)\n",
            "Requirement already satisfied: rich>=9.2.0 in /usr/local/lib/python3.7/dist-packages (from apache-airflow) (10.9.0)\n",
            "Requirement already satisfied: apache-airflow-providers-ftp in /usr/local/lib/python3.7/dist-packages (from apache-airflow) (2.0.1)\n",
            "Requirement already satisfied: apache-airflow-providers-http in /usr/local/lib/python3.7/dist-packages (from apache-airflow) (2.0.1)\n",
            "Requirement already satisfied: apache-airflow-providers-imap in /usr/local/lib/python3.7/dist-packages (from apache-airflow) (2.0.1)\n",
            "Requirement already satisfied: markupsafe<2.0,>=1.1.1 in /usr/local/lib/python3.7/dist-packages (from apache-airflow) (1.1.1)\n",
            "Requirement already satisfied: docutils<0.17 in /usr/local/lib/python3.7/dist-packages (from apache-airflow) (0.16)\n",
            "Requirement already satisfied: blinker in /usr/local/lib/python3.7/dist-packages (from apache-airflow) (1.4)\n",
            "Requirement already satisfied: pygments<3.0,>=2.0.1 in /usr/local/lib/python3.7/dist-packages (from apache-airflow) (2.6.1)\n",
            "Requirement already satisfied: werkzeug>=1.0.1,~=1.0 in /usr/local/lib/python3.7/dist-packages (from apache-airflow) (1.0.1)\n",
            "Requirement already satisfied: python3-openid~=3.2 in /usr/local/lib/python3.7/dist-packages (from apache-airflow) (3.2.0)\n",
            "Requirement already satisfied: lockfile>=0.12.2 in /usr/local/lib/python3.7/dist-packages (from apache-airflow) (0.12.2)\n",
            "Requirement already satisfied: tenacity~=6.2.0 in /usr/local/lib/python3.7/dist-packages (from apache-airflow) (6.2.0)\n",
            "Requirement already satisfied: numpy in /usr/local/lib/python3.7/dist-packages (from apache-airflow) (1.19.5)\n",
            "Requirement already satisfied: clickclick>=1.2 in /usr/local/lib/python3.7/dist-packages (from apache-airflow) (20.10.2)\n",
            "Requirement already satisfied: alembic<2.0,>=1.2 in /usr/local/lib/python3.7/dist-packages (from apache-airflow) (1.7.1)\n",
            "Requirement already satisfied: colorlog>=4.0.2 in /usr/local/lib/python3.7/dist-packages (from apache-airflow) (6.4.1)\n",
            "Requirement already satisfied: flask<2.0,>=1.1.0 in /usr/local/lib/python3.7/dist-packages (from apache-airflow) (1.1.4)\n",
            "Requirement already satisfied: swagger-ui-bundle>=0.0.2 in /usr/local/lib/python3.7/dist-packages (from apache-airflow) (0.0.9)\n",
            "Requirement already satisfied: inflection>=0.3.1 in /usr/local/lib/python3.7/dist-packages (from apache-airflow) (0.5.1)\n",
            "Requirement already satisfied: Mako in /usr/local/lib/python3.7/dist-packages (from alembic<2.0,>=1.2->apache-airflow) (1.1.5)\n",
            "Requirement already satisfied: click>=4.0 in /usr/local/lib/python3.7/dist-packages (from clickclick>=1.2->apache-airflow) (7.1.2)\n",
            "Requirement already satisfied: cffi>=1.12 in /usr/local/lib/python3.7/dist-packages (from cryptography>=0.9.3->apache-airflow) (1.14.6)\n",
            "Requirement already satisfied: pycparser in /usr/local/lib/python3.7/dist-packages (from cffi>=1.12->cryptography>=0.9.3->apache-airflow) (2.20)\n",
            "Requirement already satisfied: marshmallow-sqlalchemy<0.24.0,>=0.22.0 in /usr/local/lib/python3.7/dist-packages (from flask-appbuilder<4.0.0,>=3.3.2->apache-airflow) (0.23.1)\n",
            "Requirement already satisfied: colorama<1,>=0.3.9 in /usr/local/lib/python3.7/dist-packages (from flask-appbuilder<4.0.0,>=3.3.2->apache-airflow) (0.4.4)\n",
            "Requirement already satisfied: apispec[yaml]<4,>=3.3 in /usr/local/lib/python3.7/dist-packages (from flask-appbuilder<4.0.0,>=3.3.2->apache-airflow) (3.3.2)\n",
            "Requirement already satisfied: prison<1.0.0,>=0.2.1 in /usr/local/lib/python3.7/dist-packages (from flask-appbuilder<4.0.0,>=3.3.2->apache-airflow) (0.2.1)\n",
            "Requirement already satisfied: marshmallow<4,>=3 in /usr/local/lib/python3.7/dist-packages (from flask-appbuilder<4.0.0,>=3.3.2->apache-airflow) (3.13.0)\n",
            "Requirement already satisfied: Flask-OpenID<2,>=1.2.5 in /usr/local/lib/python3.7/dist-packages (from flask-appbuilder<4.0.0,>=3.3.2->apache-airflow) (1.3.0)\n",
            "Requirement already satisfied: Flask-SQLAlchemy<3,>=2.4 in /usr/local/lib/python3.7/dist-packages (from flask-appbuilder<4.0.0,>=3.3.2->apache-airflow) (2.5.1)\n",
            "Requirement already satisfied: Flask-Babel<2,>=1 in /usr/local/lib/python3.7/dist-packages (from flask-appbuilder<4.0.0,>=3.3.2->apache-airflow) (1.0.0)\n",
            "Requirement already satisfied: Flask-JWT-Extended<4,>=3.18 in /usr/local/lib/python3.7/dist-packages (from flask-appbuilder<4.0.0,>=3.3.2->apache-airflow) (3.25.1)\n",
            "Requirement already satisfied: marshmallow-enum<2,>=1.5.1 in /usr/local/lib/python3.7/dist-packages (from flask-appbuilder<4.0.0,>=3.3.2->apache-airflow) (1.5.1)\n",
            "Requirement already satisfied: email-validator<2,>=1.0.5 in /usr/local/lib/python3.7/dist-packages (from flask-appbuilder<4.0.0,>=3.3.2->apache-airflow) (1.1.3)\n",
            "Requirement already satisfied: sqlalchemy-utils<1,>=0.32.21 in /usr/local/lib/python3.7/dist-packages (from flask-appbuilder<4.0.0,>=3.3.2->apache-airflow) (0.37.8)\n",
            "Requirement already satisfied: idna>=2.0.0 in /usr/local/lib/python3.7/dist-packages (from email-validator<2,>=1.0.5->flask-appbuilder<4.0.0,>=3.3.2->apache-airflow) (2.10)\n",
            "Requirement already satisfied: dnspython>=1.15.0 in /usr/local/lib/python3.7/dist-packages (from email-validator<2,>=1.0.5->flask-appbuilder<4.0.0,>=3.3.2->apache-airflow) (2.1.0)\n",
            "Requirement already satisfied: Babel>=2.3 in /usr/local/lib/python3.7/dist-packages (from Flask-Babel<2,>=1->flask-appbuilder<4.0.0,>=3.3.2->apache-airflow) (2.9.1)\n",
            "Requirement already satisfied: pytz in /usr/local/lib/python3.7/dist-packages (from Flask-Babel<2,>=1->flask-appbuilder<4.0.0,>=3.3.2->apache-airflow) (2018.9)\n",
            "Requirement already satisfied: six in /usr/local/lib/python3.7/dist-packages (from Flask-JWT-Extended<4,>=3.18->flask-appbuilder<4.0.0,>=3.3.2->apache-airflow) (1.15.0)\n",
            "Requirement already satisfied: WTForms in /usr/local/lib/python3.7/dist-packages (from flask-wtf<0.15,>=0.14.3->apache-airflow) (2.3.3)\n",
            "Requirement already satisfied: setuptools>=3.0 in /usr/local/lib/python3.7/dist-packages (from gunicorn>=19.5.0->apache-airflow) (57.4.0)\n",
            "Requirement already satisfied: zipp>=0.5 in /usr/local/lib/python3.7/dist-packages (from importlib-metadata>=1.7->apache-airflow) (3.5.0)\n",
            "Requirement already satisfied: pyrsistent>=0.14.0 in /usr/local/lib/python3.7/dist-packages (from jsonschema~=3.0->apache-airflow) (0.18.0)\n",
            "Requirement already satisfied: openapi-schema-validator in /usr/local/lib/python3.7/dist-packages (from openapi-spec-validator>=0.2.4->apache-airflow) (0.1.5)\n",
            "Requirement already satisfied: pytzdata>=2020.1 in /usr/local/lib/python3.7/dist-packages (from pendulum~=2.0->apache-airflow) (2020.1)\n",
            "Requirement already satisfied: text-unidecode>=1.3 in /usr/local/lib/python3.7/dist-packages (from python-slugify<5.0,>=3.0.0->apache-airflow) (1.3)\n",
            "Requirement already satisfied: defusedxml in /usr/local/lib/python3.7/dist-packages (from python3-openid~=3.2->apache-airflow) (0.7.1)\n",
            "Requirement already satisfied: commonmark<0.10.0,>=0.9.0 in /usr/local/lib/python3.7/dist-packages (from rich>=9.2.0->apache-airflow) (0.9.1)\n",
            "Requirement already satisfied: requests>=2.26.0 in /usr/local/lib/python3.7/dist-packages (from apache-airflow-providers-http->apache-airflow) (2.26.0)\n",
            "Requirement already satisfied: urllib3<1.27,>=1.21.1 in /usr/local/lib/python3.7/dist-packages (from requests>=2.26.0->apache-airflow-providers-http->apache-airflow) (1.24.3)\n",
            "Requirement already satisfied: certifi>=2017.4.17 in /usr/local/lib/python3.7/dist-packages (from requests>=2.26.0->apache-airflow-providers-http->apache-airflow) (2021.5.30)\n",
            "Requirement already satisfied: charset-normalizer~=2.0.0 in /usr/local/lib/python3.7/dist-packages (from requests>=2.26.0->apache-airflow-providers-http->apache-airflow) (2.0.4)\n",
            "Requirement already satisfied: sniffio in /usr/local/lib/python3.7/dist-packages (from httpx->apache-airflow) (1.2.0)\n",
            "Requirement already satisfied: rfc3986[idna2008]<2,>=1.3 in /usr/local/lib/python3.7/dist-packages (from httpx->apache-airflow) (1.5.0)\n",
            "Requirement already satisfied: httpcore<0.14.0,>=0.13.3 in /usr/local/lib/python3.7/dist-packages (from httpx->apache-airflow) (0.13.7)\n",
            "Requirement already satisfied: anyio==3.* in /usr/local/lib/python3.7/dist-packages (from httpcore<0.14.0,>=0.13.3->httpx->apache-airflow) (3.3.1)\n",
            "Requirement already satisfied: h11<0.13,>=0.11 in /usr/local/lib/python3.7/dist-packages (from httpcore<0.14.0,>=0.13.3->httpx->apache-airflow) (0.12.0)\n",
            "Requirement already satisfied: isodate in /usr/local/lib/python3.7/dist-packages (from openapi-schema-validator->openapi-spec-validator>=0.2.4->apache-airflow) (0.6.0)\n",
            "Requirement already satisfied: pymysql in /usr/local/lib/python3.7/dist-packages (1.0.2)\n"
          ]
        }
      ]
    },
    {
      "cell_type": "code",
      "metadata": {
        "id": "OkCOtevT3Jig"
      },
      "source": [
        "from airflow import DAG\n",
        "from airflow.operators.bash_operator import BashOperator\n",
        "from airflow.operators.python_operator import PythonOperator\n",
        "from airflow.utils.dates import days_ago\n",
        "from datetime import timedelta\n",
        "\n",
        "import pymysql.cursors\n",
        "import pandas as pd\n",
        "import requests"
      ],
      "execution_count": null,
      "outputs": []
    },
    {
      "cell_type": "markdown",
      "metadata": {
        "id": "opFn1b1R7ECg"
      },
      "source": [
        "ตรงนี้เป็นข้อมูลสำคัญ ขออนุญาตไม่บอกนะคะ"
      ]
    },
    {
      "cell_type": "code",
      "metadata": {
        "id": "dzE26jFT3S4B"
      },
      "source": [
        "class Config:\n",
        "    MYSQL_HOST = ''\n",
        "    MYSQL_PORT = 3306\n",
        "    MYSQL_USER = ''\n",
        "    MYSQL_PASSWORD = ''\n",
        "    MYSQL_DB = ''\n",
        "    MYSQL_CHARSET = ''"
      ],
      "execution_count": null,
      "outputs": []
    },
    {
      "cell_type": "markdown",
      "metadata": {
        "id": "qaQ8YHFg7cMb"
      },
      "source": [
        "#Get data from database"
      ]
    },
    {
      "cell_type": "markdown",
      "metadata": {
        "id": "9NO9_Dl47wwc"
      },
      "source": [
        "*   ดึงข้อมูล retail จาก database\n",
        "*   จากนั้นนำข้อมูลมาใส่ Dataframe\n",
        "*   เนื่องจาก InvoiceDate column ที่ได้มามีทั้ง ปี/เดือน/วัน เวลา เราไม่ได้ต้องการ timestamp จึงสร้างคอลลัมน์ ใหม่ไว้เก็บ Timestamp(เผื่ออนาคตได้ใช้) แล้ว format คอลัมน์เดิมให้เหลือแค่ ปี/เดือน/วัน"
      ]
    },
    {
      "cell_type": "code",
      "metadata": {
        "id": "Hkkh67Ix3Zuv"
      },
      "source": [
        "def get_data_from_db():\n",
        "\n",
        "    # Connect to the database\n",
        "    connection = pymysql.connect(host=Config.MYSQL_HOST,\n",
        "                                port=Config.MYSQL_PORT,\n",
        "                                user=Config.MYSQL_USER,\n",
        "                                password=Config.MYSQL_PASSWORD,\n",
        "                                db=Config.MYSQL_DB,\n",
        "                                charset=Config.MYSQL_CHARSET,\n",
        "                                cursorclass=pymysql.cursors.DictCursor)\n",
        "\n",
        "\n",
        "    with connection.cursor() as cursor:\n",
        "        # Read a single record\n",
        "        sql = \"SELECT * from online_retail\"\n",
        "        cursor.execute(sql)\n",
        "        result_retail = cursor.fetchall()\n",
        "\n",
        "    \n",
        "    retail = pd.DataFrame(result_retail)\n",
        "    retail['InvoiceTimestamp'] = pd.to_datetime(retail['InvoiceDate'])\n",
        "    retail['InvoiceDate'] = pd.to_datetime(retail['InvoiceDate']).dt.date\n",
        "    retail.to_csv(\"/home/airflow/gcs/data/retail_from_db.csv\", index=False)"
      ],
      "execution_count": null,
      "outputs": []
    },
    {
      "cell_type": "markdown",
      "metadata": {
        "id": "SKYtMfZK-dgE"
      },
      "source": [
        "#Get data from API"
      ]
    },
    {
      "cell_type": "markdown",
      "metadata": {
        "id": "iR66XwBl-4Ma"
      },
      "source": [
        "*   ดึงข้อมูลเรทเงินของแต่ละวันจาก api\n",
        "*   นำข้อมูลมาใส่ dataframe เปลี่ยนชื่อคอลัมน์ที่เป็น index ตั้งชื่อใหม่ว่า Date\n",
        "\n",
        "\n"
      ]
    },
    {
      "cell_type": "code",
      "metadata": {
        "id": "s7XIwJed-PFu"
      },
      "source": [
        "def get_data_from_api():\n",
        "    url = \"https://de-training-2020-7au6fmnprq-de.a.run.app/currency_gbp/all\"\n",
        "    response = requests.get(url)\n",
        "    result_conversion_rate = response.json()\n",
        "\n",
        "    conversion_rate = pd.DataFrame.from_dict(result_conversion_rate)\n",
        "    conversion_rate = conversion_rate.reset_index().rename(columns={\"index\":\"date\"})\n",
        "\n",
        "    conversion_rate['date'] = pd.to_datetime(conversion_rate['date']).dt.date\n",
        "    conversion_rate.to_csv(\"/home/airflow/gcs/data/conversion_rate_from_api.csv\", index=False)"
      ],
      "execution_count": null,
      "outputs": []
    },
    {
      "cell_type": "markdown",
      "metadata": {
        "id": "1RVIRb2WAGfq"
      },
      "source": [
        "#Convert to Thai bath"
      ]
    },
    {
      "cell_type": "markdown",
      "metadata": {
        "id": "DQcCLiZQBNbY"
      },
      "source": [
        "\n",
        "\n",
        "*   นำข้อมูล retail กับข้อมูล currencry rate มา merge กันแบบ left join โดยให้ข้อมูล retail เป็นหลัก\n",
        "*   เพิ่มคอลัมน์ 'THBPrice' ที่เกิดจากแปลงค่าเงินโดยการนำคอลัมน์ UnitPrice * Rate\n",
        "\n"
      ]
    },
    {
      "cell_type": "code",
      "metadata": {
        "id": "gk6Blvh8BL3e"
      },
      "source": [
        "def convert_to_thb():\n",
        "    retail = pd.read_csv(\"/home/airflow/gcs/data/retail_from_db.csv\")\n",
        "    conversion_rate = pd.read_csv(\"/home/airflow/gcs/data/conversion_rate_from_api.csv\")\n",
        "    \n",
        "    final_df = retail.merge(conversion_rate, how=\"left\", left_on=\"InvoiceDate\", right_on=\"date\")\n",
        "\n",
        "    final_df['THBPrice'] = final_df.apply(lambda x: x['UnitPrice'] * x['Rate'], axis=1)\n",
        "    final_df.to_csv(\"/home/airflow/gcs/data/result.csv\", index=False)"
      ],
      "execution_count": null,
      "outputs": []
    },
    {
      "cell_type": "markdown",
      "metadata": {
        "id": "_dzC1Q9fC9gC"
      },
      "source": [
        "#Data pipeline"
      ]
    },
    {
      "cell_type": "markdown",
      "metadata": {
        "id": "9SkzpxcvDJmp"
      },
      "source": [
        "ตั้ง Default Argument ให้ apache airflow"
      ]
    },
    {
      "cell_type": "code",
      "metadata": {
        "id": "D2p3pmoRDI1h"
      },
      "source": [
        "default_args = {\n",
        "    'owner': 'User_ploy',\n",
        "    'depends_on_past': False,\n",
        "    'start_date': days_ago(1),\n",
        "    'email': ['airflow@example.com'],\n",
        "    'email_on_failure': False,\n",
        "    'email_on_retry': False,\n",
        "    'retries': 1,\n",
        "    'retry_delay': timedelta(minutes=5),\n",
        "    'schedule_interval': '@once',\n",
        "}"
      ],
      "execution_count": null,
      "outputs": []
    },
    {
      "cell_type": "markdown",
      "metadata": {
        "id": "cWmim8gzDo-v"
      },
      "source": [
        "Create DAGs (Directed Acyclic Graphs) "
      ]
    },
    {
      "cell_type": "code",
      "metadata": {
        "id": "8ADk_yC8Dgij"
      },
      "source": [
        "dag = DAG(\n",
        "    'online_retail',\n",
        "    default_args=default_args,\n",
        "    description='Pipeline for ETL online_retail data',\n",
        "    schedule_interval=timedelta(days=1),\n",
        ")"
      ],
      "execution_count": null,
      "outputs": []
    },
    {
      "cell_type": "code",
      "metadata": {
        "colab": {
          "base_uri": "https://localhost:8080/"
        },
        "id": "wq_qxjF7EJml",
        "outputId": "d378e774-902d-4f32-b993-f5a87af96ace"
      },
      "source": [
        "# db_ingest\n",
        "t1 = PythonOperator(\n",
        "    task_id='db_ingest',\n",
        "    python_callable=get_data_from_db,\n",
        "    dag=dag,\n",
        ")\n",
        "\n",
        "# api_call\n",
        "t2 = PythonOperator(\n",
        "    task_id='api_call',\n",
        "    python_callable=get_data_from_api,\n",
        "    dag=dag,\n",
        ")\n",
        "\n",
        "# convert_currency\n",
        "t3 = PythonOperator(\n",
        "    task_id='convert_currency',\n",
        "    python_callable=convert_to_thb,\n",
        "    dag=dag,\n",
        ")\n",
        "\n",
        "# load to BigQuery\n",
        "t4 = BashOperator(\n",
        "    task_id='bq_load',\n",
        "    bash_command='bq load --source_format=CSV --autodetect \\\n",
        "            [DATASET_ID].[TABLE_NAME] \\\n",
        "            gs://[GCS_BUCKET_NAME]/data/result.csv',\n",
        "    dag=dag,\n",
        ")\n",
        "\n",
        "# Dependencies\n",
        "\n",
        "[t1, t2] >> t3 >> t4"
      ],
      "execution_count": null,
      "outputs": [
        {
          "output_type": "execute_result",
          "data": {
            "text/plain": [
              "<Task(BashOperator): bq_load>"
            ]
          },
          "metadata": {},
          "execution_count": 13
        }
      ]
    },
    {
      "cell_type": "code",
      "metadata": {
        "id": "kiKVntuCESkR"
      },
      "source": [
        ""
      ],
      "execution_count": null,
      "outputs": []
    }
  ]
}